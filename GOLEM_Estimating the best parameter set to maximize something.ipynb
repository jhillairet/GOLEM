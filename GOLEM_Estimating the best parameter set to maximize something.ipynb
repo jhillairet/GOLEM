{
 "cells": [
  {
   "cell_type": "markdown",
   "metadata": {},
   "source": [
    "Analyse some recent GOLEM shots from 25000 to 26023. "
   ]
  },
  {
   "cell_type": "markdown",
   "metadata": {},
   "source": [
    "# Getting data"
   ]
  },
  {
   "cell_type": "markdown",
   "metadata": {},
   "source": [
    "The dataset has been created from the [GolSQL tool](http://golem.fjfi.cvut.cz/utils/miner), with the follow URL used to generate the dataset:\n"
   ]
  },
  {
   "cell_type": "raw",
   "metadata": {},
   "source": [
    "http://golem.fjfi.cvut.cz/utils/miner?new_diagn=pressure_request&action=Add&xaxis=ShotNo&start_shot=25000&end_shot=26023&diagn_0=breakdown_field&filter_0=none&subplot_0=&yrange0_0=&yrange1_0=&scale_0=linear&diagn_1=breakdown_probability&filter_1=none&subplot_1=&yrange0_1=&yrange1_1=&scale_1=linear&diagn_2=breakdown_rate&filter_2=none&subplot_2=&yrange0_2=&yrange1_2=&scale_2=linear&diagn_3=breakdown_rate_err&filter_3=none&subplot_3=&yrange0_3=&yrange1_3=&scale_3=linear&diagn_4=breakdown_time&filter_4=none&subplot_4=&yrange0_4=&yrange1_4=&scale_4=linear&diagn_5=breakdown_voltage&filter_5=none&subplot_5=&yrange0_5=&yrange1_5=&scale_5=linear&diagn_6=cb&filter_6=none&subplot_6=&yrange0_6=&yrange1_6=&scale_6=linear&diagn_7=cbd&filter_7=none&subplot_7=&yrange0_7=&yrange1_7=&scale_7=linear&diagn_8=ccd&filter_8=none&subplot_8=&yrange0_8=&yrange1_8=&scale_8=linear&diagn_9=cst&filter_9=none&subplot_9=&yrange0_9=&yrange1_9=&scale_9=linear&diagn_10=chamber_inductance&filter_10=none&subplot_10=&yrange0_10=&yrange1_10=&scale_10=linear&diagn_11=chamber_resistance&filter_11=none&subplot_11=&yrange0_11=&yrange1_11=&scale_11=linear&diagn_12=chamber_temperature&filter_12=none&subplot_12=&yrange0_12=&yrange1_12=&scale_12=linear&diagn_13=discharge_aborted&filter_13=none&subplot_13=&yrange0_13=&yrange1_13=&scale_13=linear&diagn_14=electron_confinement_t98&filter_14=none&subplot_14=&yrange0_14=&yrange1_14=&scale_14=linear&diagn_15=electron_confinement_time&filter_15=none&subplot_15=&yrange0_15=&yrange1_15=&scale_15=linear&diagn_16=electron_temperature_max&filter_16=none&subplot_16=&yrange0_16=&yrange1_16=&scale_16=linear&diagn_17=lb&filter_17=none&subplot_17=&yrange0_17=&yrange1_17=&scale_17=linear&diagn_18=loop_voltage_max&filter_18=none&subplot_18=&yrange0_18=&yrange1_18=&scale_18=linear&diagn_19=loop_voltage_mean&filter_19=none&subplot_19=&yrange0_19=&yrange1_19=&scale_19=linear&diagn_20=plasma&filter_20=none&subplot_20=&yrange0_20=&yrange1_20=&scale_20=linear&diagn_21=plasma_life&filter_21=none&subplot_21=&yrange0_21=&yrange1_21=&scale_21=linear&diagn_22=toroidal_field_mean&filter_22=none&subplot_22=&yrange0_22=&yrange1_22=&scale_22=linear&diagn_23=toroidal_field_max&filter_23=none&subplot_23=&yrange0_23=&yrange1_23=&scale_23=linear&diagn_24=ub&filter_24=none&subplot_24=&yrange0_24=&yrange1_24=&scale_24=linear&diagn_25=ubd&filter_25=none&subplot_25=&yrange0_25=&yrange1_25=&scale_25=linear&diagn_26=ucd&filter_26=none&subplot_26=&yrange0_26=&yrange1_26=&scale_26=linear&diagn_27=ust&filter_27=none&subplot_27=&yrange0_27=&yrange1_27=&scale_27=linear&diagn_28=tst&filter_28=none&subplot_28=&yrange0_28=&yrange1_28=&scale_28=linear&diagn_29=tcd&filter_29=none&subplot_29=&yrange0_29=&yrange1_29=&scale_29=linear&diagn_30=tb&filter_30=none&subplot_30=&yrange0_30=&yrange1_30=&scale_30=linear&diagn_31=tbd&filter_31=none&subplot_31=&yrange0_31=&yrange1_31=&scale_31=linear&diagn_32=pressure&filter_32=none&subplot_32=&yrange0_32=&yrange1_32=&scale_32=linear&diagn_33=pressure_chamber&filter_33=none&subplot_33=&yrange0_33=&yrange1_33=&scale_33=linear&diagn_34=pressure_initial&filter_34=none&subplot_34=&yrange0_34=&yrange1_34=&scale_34=linear"
   ]
  },
  {
   "cell_type": "code",
   "execution_count": 83,
   "metadata": {
    "collapsed": true
   },
   "outputs": [],
   "source": [
    "%matplotlib inline\n",
    "import matplotlib.pyplot as plt\n",
    "import pandas as pd\n",
    "import seaborn"
   ]
  },
  {
   "cell_type": "code",
   "execution_count": 84,
   "metadata": {
    "collapsed": true
   },
   "outputs": [],
   "source": [
    "dataset = pd.read_csv('close_shots.txt', delimiter='\\s+', index_col='shots')"
   ]
  },
  {
   "cell_type": "code",
   "execution_count": 85,
   "metadata": {},
   "outputs": [
    {
     "data": {
      "text/html": [
       "<div>\n",
       "<style>\n",
       "    .dataframe thead tr:only-child th {\n",
       "        text-align: right;\n",
       "    }\n",
       "\n",
       "    .dataframe thead th {\n",
       "        text-align: left;\n",
       "    }\n",
       "\n",
       "    .dataframe tbody tr th {\n",
       "        vertical-align: top;\n",
       "    }\n",
       "</style>\n",
       "<table border=\"1\" class=\"dataframe\">\n",
       "  <thead>\n",
       "    <tr style=\"text-align: right;\">\n",
       "      <th></th>\n",
       "      <th>pressure_initial</th>\n",
       "      <th>cbd</th>\n",
       "      <th>cb</th>\n",
       "      <th>breakdown_field</th>\n",
       "      <th>tb</th>\n",
       "      <th>electron_temperature_max</th>\n",
       "      <th>ucd</th>\n",
       "      <th>tcd</th>\n",
       "      <th>breakdown_voltage</th>\n",
       "      <th>plasma_life</th>\n",
       "      <th>...</th>\n",
       "      <th>tbd</th>\n",
       "      <th>breakdown_rate_err</th>\n",
       "      <th>ubd</th>\n",
       "      <th>breakdown_probability</th>\n",
       "      <th>discharge_aborted</th>\n",
       "      <th>pressure_chamber</th>\n",
       "      <th>loop_voltage_mean</th>\n",
       "      <th>ccd</th>\n",
       "      <th>loop_voltage_max</th>\n",
       "      <th>ub</th>\n",
       "    </tr>\n",
       "    <tr>\n",
       "      <th>shots</th>\n",
       "      <th></th>\n",
       "      <th></th>\n",
       "      <th></th>\n",
       "      <th></th>\n",
       "      <th></th>\n",
       "      <th></th>\n",
       "      <th></th>\n",
       "      <th></th>\n",
       "      <th></th>\n",
       "      <th></th>\n",
       "      <th></th>\n",
       "      <th></th>\n",
       "      <th></th>\n",
       "      <th></th>\n",
       "      <th></th>\n",
       "      <th></th>\n",
       "      <th></th>\n",
       "      <th></th>\n",
       "      <th></th>\n",
       "      <th></th>\n",
       "      <th></th>\n",
       "    </tr>\n",
       "  </thead>\n",
       "  <tbody>\n",
       "    <tr>\n",
       "      <th>20000</th>\n",
       "      <td>10.275</td>\n",
       "      <td>0.0036</td>\n",
       "      <td>0.0675</td>\n",
       "      <td>0.086171</td>\n",
       "      <td>0.005</td>\n",
       "      <td>19.339</td>\n",
       "      <td>500.0</td>\n",
       "      <td>0.006</td>\n",
       "      <td>10.501</td>\n",
       "      <td>0.00874</td>\n",
       "      <td>...</td>\n",
       "      <td>0.005</td>\n",
       "      <td>NaN</td>\n",
       "      <td>0.0</td>\n",
       "      <td>NaN</td>\n",
       "      <td>NaN</td>\n",
       "      <td>NaN</td>\n",
       "      <td>12.4140</td>\n",
       "      <td>0.0135</td>\n",
       "      <td>15.140</td>\n",
       "      <td>1000.0</td>\n",
       "    </tr>\n",
       "    <tr>\n",
       "      <th>20001</th>\n",
       "      <td>10.275</td>\n",
       "      <td>0.0036</td>\n",
       "      <td>0.0675</td>\n",
       "      <td>NaN</td>\n",
       "      <td>0.005</td>\n",
       "      <td>NaN</td>\n",
       "      <td>400.0</td>\n",
       "      <td>0.011</td>\n",
       "      <td>NaN</td>\n",
       "      <td>NaN</td>\n",
       "      <td>...</td>\n",
       "      <td>0.005</td>\n",
       "      <td>NaN</td>\n",
       "      <td>0.0</td>\n",
       "      <td>NaN</td>\n",
       "      <td>NaN</td>\n",
       "      <td>NaN</td>\n",
       "      <td>NaN</td>\n",
       "      <td>0.0135</td>\n",
       "      <td>11.105</td>\n",
       "      <td>600.0</td>\n",
       "    </tr>\n",
       "    <tr>\n",
       "      <th>20002</th>\n",
       "      <td>10.236</td>\n",
       "      <td>0.0036</td>\n",
       "      <td>0.0675</td>\n",
       "      <td>0.164820</td>\n",
       "      <td>0.005</td>\n",
       "      <td>16.332</td>\n",
       "      <td>400.0</td>\n",
       "      <td>0.011</td>\n",
       "      <td>10.225</td>\n",
       "      <td>0.00746</td>\n",
       "      <td>...</td>\n",
       "      <td>0.005</td>\n",
       "      <td>NaN</td>\n",
       "      <td>0.0</td>\n",
       "      <td>NaN</td>\n",
       "      <td>NaN</td>\n",
       "      <td>NaN</td>\n",
       "      <td>9.4531</td>\n",
       "      <td>0.0135</td>\n",
       "      <td>13.707</td>\n",
       "      <td>600.0</td>\n",
       "    </tr>\n",
       "    <tr>\n",
       "      <th>20003</th>\n",
       "      <td>10.275</td>\n",
       "      <td>0.0036</td>\n",
       "      <td>0.0675</td>\n",
       "      <td>0.064730</td>\n",
       "      <td>0.005</td>\n",
       "      <td>21.470</td>\n",
       "      <td>500.0</td>\n",
       "      <td>0.006</td>\n",
       "      <td>11.843</td>\n",
       "      <td>0.00666</td>\n",
       "      <td>...</td>\n",
       "      <td>0.005</td>\n",
       "      <td>NaN</td>\n",
       "      <td>0.0</td>\n",
       "      <td>NaN</td>\n",
       "      <td>NaN</td>\n",
       "      <td>NaN</td>\n",
       "      <td>10.3120</td>\n",
       "      <td>0.0135</td>\n",
       "      <td>18.776</td>\n",
       "      <td>600.0</td>\n",
       "    </tr>\n",
       "    <tr>\n",
       "      <th>20004</th>\n",
       "      <td>10.275</td>\n",
       "      <td>0.0036</td>\n",
       "      <td>0.0675</td>\n",
       "      <td>0.193450</td>\n",
       "      <td>0.005</td>\n",
       "      <td>16.559</td>\n",
       "      <td>400.0</td>\n",
       "      <td>0.013</td>\n",
       "      <td>10.286</td>\n",
       "      <td>0.00762</td>\n",
       "      <td>...</td>\n",
       "      <td>0.005</td>\n",
       "      <td>NaN</td>\n",
       "      <td>0.0</td>\n",
       "      <td>NaN</td>\n",
       "      <td>NaN</td>\n",
       "      <td>NaN</td>\n",
       "      <td>9.4195</td>\n",
       "      <td>0.0135</td>\n",
       "      <td>13.575</td>\n",
       "      <td>600.0</td>\n",
       "    </tr>\n",
       "  </tbody>\n",
       "</table>\n",
       "<p>5 rows × 36 columns</p>\n",
       "</div>"
      ],
      "text/plain": [
       "       pressure_initial     cbd      cb  breakdown_field     tb  \\\n",
       "shots                                                             \n",
       "20000            10.275  0.0036  0.0675         0.086171  0.005   \n",
       "20001            10.275  0.0036  0.0675              NaN  0.005   \n",
       "20002            10.236  0.0036  0.0675         0.164820  0.005   \n",
       "20003            10.275  0.0036  0.0675         0.064730  0.005   \n",
       "20004            10.275  0.0036  0.0675         0.193450  0.005   \n",
       "\n",
       "       electron_temperature_max    ucd    tcd  breakdown_voltage  plasma_life  \\\n",
       "shots                                                                           \n",
       "20000                    19.339  500.0  0.006             10.501      0.00874   \n",
       "20001                       NaN  400.0  0.011                NaN          NaN   \n",
       "20002                    16.332  400.0  0.011             10.225      0.00746   \n",
       "20003                    21.470  500.0  0.006             11.843      0.00666   \n",
       "20004                    16.559  400.0  0.013             10.286      0.00762   \n",
       "\n",
       "        ...      tbd  breakdown_rate_err  ubd  breakdown_probability  \\\n",
       "shots   ...                                                            \n",
       "20000   ...    0.005                 NaN  0.0                    NaN   \n",
       "20001   ...    0.005                 NaN  0.0                    NaN   \n",
       "20002   ...    0.005                 NaN  0.0                    NaN   \n",
       "20003   ...    0.005                 NaN  0.0                    NaN   \n",
       "20004   ...    0.005                 NaN  0.0                    NaN   \n",
       "\n",
       "       discharge_aborted  pressure_chamber  loop_voltage_mean     ccd  \\\n",
       "shots                                                                   \n",
       "20000                NaN               NaN            12.4140  0.0135   \n",
       "20001                NaN               NaN                NaN  0.0135   \n",
       "20002                NaN               NaN             9.4531  0.0135   \n",
       "20003                NaN               NaN            10.3120  0.0135   \n",
       "20004                NaN               NaN             9.4195  0.0135   \n",
       "\n",
       "       loop_voltage_max      ub  \n",
       "shots                            \n",
       "20000            15.140  1000.0  \n",
       "20001            11.105   600.0  \n",
       "20002            13.707   600.0  \n",
       "20003            18.776   600.0  \n",
       "20004            13.575   600.0  \n",
       "\n",
       "[5 rows x 36 columns]"
      ]
     },
     "execution_count": 85,
     "metadata": {},
     "output_type": "execute_result"
    }
   ],
   "source": [
    "dataset.head()"
   ]
  },
  {
   "cell_type": "markdown",
   "metadata": {},
   "source": [
    "# Cleaning data"
   ]
  },
  {
   "cell_type": "markdown",
   "metadata": {},
   "source": [
    "Filter bad shots from the dataset, as adviced in the [GOLEM DataMining Page](http://golem.fjfi.cvut.cz/wiki/Handling/DataMining/data_mining)"
   ]
  },
  {
   "cell_type": "code",
   "execution_count": 86,
   "metadata": {},
   "outputs": [
    {
     "name": "stdout",
     "output_type": "stream",
     "text": [
      "5996\n"
     ]
    }
   ],
   "source": [
    "print(len(dataset)) # number of shot before cleaning "
   ]
  },
  {
   "cell_type": "code",
   "execution_count": 87,
   "metadata": {},
   "outputs": [
    {
     "name": "stdout",
     "output_type": "stream",
     "text": [
      "5665\n"
     ]
    }
   ],
   "source": [
    "# Drop failed plasma\n",
    "dataset = dataset.dropna(subset=['plasma'])\n",
    "\n",
    "# Drop plasma longer than 25 ms\n",
    "dataset = dataset.drop(dataset[dataset['plasma_life'] > 25e-3].index)\n",
    "\n",
    "# Drop loop voltage below than 5V\n",
    "dataset = dataset.drop(dataset[dataset['loop_voltage_max'] < 5].index)\n",
    "\n",
    "# Drop pressure larger than 100mPa\n",
    "dataset = dataset.drop(dataset[dataset['pressure'] > 100].index)\n",
    "\n",
    "# number of shot after cleaning\n",
    "print(len(dataset)) "
   ]
  },
  {
   "cell_type": "markdown",
   "metadata": {
    "collapsed": true
   },
   "source": [
    "# Which parameters to improve the plasma lifetime?"
   ]
  },
  {
   "cell_type": "code",
   "execution_count": 88,
   "metadata": {},
   "outputs": [
    {
     "data": {
      "text/html": [
       "<div>\n",
       "<style>\n",
       "    .dataframe thead tr:only-child th {\n",
       "        text-align: right;\n",
       "    }\n",
       "\n",
       "    .dataframe thead th {\n",
       "        text-align: left;\n",
       "    }\n",
       "\n",
       "    .dataframe tbody tr th {\n",
       "        vertical-align: top;\n",
       "    }\n",
       "</style>\n",
       "<table border=\"1\" class=\"dataframe\">\n",
       "  <thead>\n",
       "    <tr style=\"text-align: right;\">\n",
       "      <th></th>\n",
       "      <th>pressure_initial</th>\n",
       "      <th>cbd</th>\n",
       "      <th>cb</th>\n",
       "      <th>breakdown_field</th>\n",
       "      <th>tb</th>\n",
       "      <th>electron_temperature_max</th>\n",
       "      <th>ucd</th>\n",
       "      <th>tcd</th>\n",
       "      <th>breakdown_voltage</th>\n",
       "      <th>plasma_life</th>\n",
       "      <th>...</th>\n",
       "      <th>tbd</th>\n",
       "      <th>breakdown_rate_err</th>\n",
       "      <th>ubd</th>\n",
       "      <th>breakdown_probability</th>\n",
       "      <th>discharge_aborted</th>\n",
       "      <th>pressure_chamber</th>\n",
       "      <th>loop_voltage_mean</th>\n",
       "      <th>ccd</th>\n",
       "      <th>loop_voltage_max</th>\n",
       "      <th>ub</th>\n",
       "    </tr>\n",
       "    <tr>\n",
       "      <th>shots</th>\n",
       "      <th></th>\n",
       "      <th></th>\n",
       "      <th></th>\n",
       "      <th></th>\n",
       "      <th></th>\n",
       "      <th></th>\n",
       "      <th></th>\n",
       "      <th></th>\n",
       "      <th></th>\n",
       "      <th></th>\n",
       "      <th></th>\n",
       "      <th></th>\n",
       "      <th></th>\n",
       "      <th></th>\n",
       "      <th></th>\n",
       "      <th></th>\n",
       "      <th></th>\n",
       "      <th></th>\n",
       "      <th></th>\n",
       "      <th></th>\n",
       "      <th></th>\n",
       "    </tr>\n",
       "  </thead>\n",
       "  <tbody>\n",
       "    <tr>\n",
       "      <th>23800</th>\n",
       "      <td>0.13277</td>\n",
       "      <td>0.0036</td>\n",
       "      <td>0.0675</td>\n",
       "      <td>0.061511</td>\n",
       "      <td>0.005</td>\n",
       "      <td>NaN</td>\n",
       "      <td>400.0</td>\n",
       "      <td>0.005</td>\n",
       "      <td>8.4863</td>\n",
       "      <td>0.02498</td>\n",
       "      <td>...</td>\n",
       "      <td>0.005</td>\n",
       "      <td>NaN</td>\n",
       "      <td>0.0</td>\n",
       "      <td>89.0</td>\n",
       "      <td>NaN</td>\n",
       "      <td>NaN</td>\n",
       "      <td>4.2969</td>\n",
       "      <td>0.0135</td>\n",
       "      <td>7.9022</td>\n",
       "      <td>1300.0</td>\n",
       "    </tr>\n",
       "    <tr>\n",
       "      <th>25341</th>\n",
       "      <td>0.19639</td>\n",
       "      <td>0.0036</td>\n",
       "      <td>0.0675</td>\n",
       "      <td>0.068972</td>\n",
       "      <td>0.005</td>\n",
       "      <td>NaN</td>\n",
       "      <td>400.0</td>\n",
       "      <td>0.005</td>\n",
       "      <td>8.8824</td>\n",
       "      <td>0.02498</td>\n",
       "      <td>...</td>\n",
       "      <td>0.005</td>\n",
       "      <td>NaN</td>\n",
       "      <td>0.0</td>\n",
       "      <td>89.0</td>\n",
       "      <td>NaN</td>\n",
       "      <td>NaN</td>\n",
       "      <td>4.5386</td>\n",
       "      <td>0.0135</td>\n",
       "      <td>8.2084</td>\n",
       "      <td>1300.0</td>\n",
       "    </tr>\n",
       "    <tr>\n",
       "      <th>24292</th>\n",
       "      <td>0.22723</td>\n",
       "      <td>0.0036</td>\n",
       "      <td>0.0675</td>\n",
       "      <td>0.070704</td>\n",
       "      <td>0.005</td>\n",
       "      <td>84.685</td>\n",
       "      <td>450.0</td>\n",
       "      <td>0.005</td>\n",
       "      <td>9.9164</td>\n",
       "      <td>0.02494</td>\n",
       "      <td>...</td>\n",
       "      <td>0.005</td>\n",
       "      <td>NaN</td>\n",
       "      <td>0.0</td>\n",
       "      <td>93.0</td>\n",
       "      <td>NaN</td>\n",
       "      <td>NaN</td>\n",
       "      <td>4.6930</td>\n",
       "      <td>0.0135</td>\n",
       "      <td>9.5740</td>\n",
       "      <td>1300.0</td>\n",
       "    </tr>\n",
       "    <tr>\n",
       "      <th>25483</th>\n",
       "      <td>0.56435</td>\n",
       "      <td>0.0036</td>\n",
       "      <td>0.0675</td>\n",
       "      <td>0.068445</td>\n",
       "      <td>0.005</td>\n",
       "      <td>NaN</td>\n",
       "      <td>400.0</td>\n",
       "      <td>0.005</td>\n",
       "      <td>9.2651</td>\n",
       "      <td>0.02494</td>\n",
       "      <td>...</td>\n",
       "      <td>0.005</td>\n",
       "      <td>NaN</td>\n",
       "      <td>0.0</td>\n",
       "      <td>90.0</td>\n",
       "      <td>NaN</td>\n",
       "      <td>NaN</td>\n",
       "      <td>4.5117</td>\n",
       "      <td>0.0135</td>\n",
       "      <td>8.7884</td>\n",
       "      <td>1300.0</td>\n",
       "    </tr>\n",
       "    <tr>\n",
       "      <th>25479</th>\n",
       "      <td>0.54102</td>\n",
       "      <td>0.0036</td>\n",
       "      <td>0.0675</td>\n",
       "      <td>0.068554</td>\n",
       "      <td>0.005</td>\n",
       "      <td>NaN</td>\n",
       "      <td>400.0</td>\n",
       "      <td>0.005</td>\n",
       "      <td>9.2517</td>\n",
       "      <td>0.02486</td>\n",
       "      <td>...</td>\n",
       "      <td>0.005</td>\n",
       "      <td>NaN</td>\n",
       "      <td>0.0</td>\n",
       "      <td>90.0</td>\n",
       "      <td>NaN</td>\n",
       "      <td>NaN</td>\n",
       "      <td>4.4916</td>\n",
       "      <td>0.0135</td>\n",
       "      <td>8.7482</td>\n",
       "      <td>1300.0</td>\n",
       "    </tr>\n",
       "  </tbody>\n",
       "</table>\n",
       "<p>5 rows × 36 columns</p>\n",
       "</div>"
      ],
      "text/plain": [
       "       pressure_initial     cbd      cb  breakdown_field     tb  \\\n",
       "shots                                                             \n",
       "23800           0.13277  0.0036  0.0675         0.061511  0.005   \n",
       "25341           0.19639  0.0036  0.0675         0.068972  0.005   \n",
       "24292           0.22723  0.0036  0.0675         0.070704  0.005   \n",
       "25483           0.56435  0.0036  0.0675         0.068445  0.005   \n",
       "25479           0.54102  0.0036  0.0675         0.068554  0.005   \n",
       "\n",
       "       electron_temperature_max    ucd    tcd  breakdown_voltage  plasma_life  \\\n",
       "shots                                                                           \n",
       "23800                       NaN  400.0  0.005             8.4863      0.02498   \n",
       "25341                       NaN  400.0  0.005             8.8824      0.02498   \n",
       "24292                    84.685  450.0  0.005             9.9164      0.02494   \n",
       "25483                       NaN  400.0  0.005             9.2651      0.02494   \n",
       "25479                       NaN  400.0  0.005             9.2517      0.02486   \n",
       "\n",
       "        ...      tbd  breakdown_rate_err  ubd  breakdown_probability  \\\n",
       "shots   ...                                                            \n",
       "23800   ...    0.005                 NaN  0.0                   89.0   \n",
       "25341   ...    0.005                 NaN  0.0                   89.0   \n",
       "24292   ...    0.005                 NaN  0.0                   93.0   \n",
       "25483   ...    0.005                 NaN  0.0                   90.0   \n",
       "25479   ...    0.005                 NaN  0.0                   90.0   \n",
       "\n",
       "       discharge_aborted  pressure_chamber  loop_voltage_mean     ccd  \\\n",
       "shots                                                                   \n",
       "23800                NaN               NaN             4.2969  0.0135   \n",
       "25341                NaN               NaN             4.5386  0.0135   \n",
       "24292                NaN               NaN             4.6930  0.0135   \n",
       "25483                NaN               NaN             4.5117  0.0135   \n",
       "25479                NaN               NaN             4.4916  0.0135   \n",
       "\n",
       "       loop_voltage_max      ub  \n",
       "shots                            \n",
       "23800            7.9022  1300.0  \n",
       "25341            8.2084  1300.0  \n",
       "24292            9.5740  1300.0  \n",
       "25483            8.7884  1300.0  \n",
       "25479            8.7482  1300.0  \n",
       "\n",
       "[5 rows x 36 columns]"
      ]
     },
     "execution_count": 88,
     "metadata": {},
     "output_type": "execute_result"
    }
   ],
   "source": [
    "# get the longest shots\n",
    "dataset.sort_values('plasma_life', ascending=False).head()"
   ]
  },
  {
   "cell_type": "markdown",
   "metadata": {},
   "source": [
    "According to the GOLEM documentation, the following parameters can be tuned for each plasma shot:\n",
    "\n",
    " - Toroidal Magnetic Field, set by $U_B$\n",
    " - Current Drive, set bu $U_{CD}$\n",
    " - Time delay for Current Drive, $\\tau_{CD}$\n",
    " - Filling Pressure, $p_{WG}$ [mPa]\n",
    " \n",
    "So let's look for the set of parameters which maximize the plasma duration"
   ]
  },
  {
   "cell_type": "code",
   "execution_count": 89,
   "metadata": {},
   "outputs": [
    {
     "data": {
      "text/html": [
       "<div>\n",
       "<style>\n",
       "    .dataframe thead tr:only-child th {\n",
       "        text-align: right;\n",
       "    }\n",
       "\n",
       "    .dataframe thead th {\n",
       "        text-align: left;\n",
       "    }\n",
       "\n",
       "    .dataframe tbody tr th {\n",
       "        vertical-align: top;\n",
       "    }\n",
       "</style>\n",
       "<table border=\"1\" class=\"dataframe\">\n",
       "  <thead>\n",
       "    <tr style=\"text-align: right;\">\n",
       "      <th></th>\n",
       "      <th>ub</th>\n",
       "      <th>ucd</th>\n",
       "      <th>tcd</th>\n",
       "      <th>pressure_request</th>\n",
       "      <th>plasma_life</th>\n",
       "    </tr>\n",
       "    <tr>\n",
       "      <th>shots</th>\n",
       "      <th></th>\n",
       "      <th></th>\n",
       "      <th></th>\n",
       "      <th></th>\n",
       "      <th></th>\n",
       "    </tr>\n",
       "  </thead>\n",
       "  <tbody>\n",
       "    <tr>\n",
       "      <th>23800</th>\n",
       "      <td>1300.0</td>\n",
       "      <td>400.0</td>\n",
       "      <td>0.005</td>\n",
       "      <td>20</td>\n",
       "      <td>0.02498</td>\n",
       "    </tr>\n",
       "    <tr>\n",
       "      <th>25341</th>\n",
       "      <td>1300.0</td>\n",
       "      <td>400.0</td>\n",
       "      <td>0.005</td>\n",
       "      <td>20</td>\n",
       "      <td>0.02498</td>\n",
       "    </tr>\n",
       "    <tr>\n",
       "      <th>24292</th>\n",
       "      <td>1300.0</td>\n",
       "      <td>450.0</td>\n",
       "      <td>0.005</td>\n",
       "      <td>20</td>\n",
       "      <td>0.02494</td>\n",
       "    </tr>\n",
       "    <tr>\n",
       "      <th>25483</th>\n",
       "      <td>1300.0</td>\n",
       "      <td>400.0</td>\n",
       "      <td>0.005</td>\n",
       "      <td>20</td>\n",
       "      <td>0.02494</td>\n",
       "    </tr>\n",
       "    <tr>\n",
       "      <th>25479</th>\n",
       "      <td>1300.0</td>\n",
       "      <td>400.0</td>\n",
       "      <td>0.005</td>\n",
       "      <td>20</td>\n",
       "      <td>0.02486</td>\n",
       "    </tr>\n",
       "  </tbody>\n",
       "</table>\n",
       "</div>"
      ],
      "text/plain": [
       "           ub    ucd    tcd  pressure_request  plasma_life\n",
       "shots                                                     \n",
       "23800  1300.0  400.0  0.005                20      0.02498\n",
       "25341  1300.0  400.0  0.005                20      0.02498\n",
       "24292  1300.0  450.0  0.005                20      0.02494\n",
       "25483  1300.0  400.0  0.005                20      0.02494\n",
       "25479  1300.0  400.0  0.005                20      0.02486"
      ]
     },
     "execution_count": 89,
     "metadata": {},
     "output_type": "execute_result"
    }
   ],
   "source": [
    "reduced_set = dataset[['ub', 'ucd', 'tcd', 'pressure_request','plasma_life']].dropna()\n",
    "reduced_set.sort_values('plasma_life', ascending=False).head()"
   ]
  },
  {
   "cell_type": "code",
   "execution_count": 90,
   "metadata": {},
   "outputs": [
    {
     "data": {
      "text/plain": [
       "<matplotlib.collections.PathCollection at 0x23090080>"
      ]
     },
     "execution_count": 90,
     "metadata": {},
     "output_type": "execute_result"
    },
    {
     "data": {
      "image/png": "[encoded data removed]",
      "text/plain": [
       "<matplotlib.figure.Figure at 0x22a9a438>"
      ]
     },
     "metadata": {},
     "output_type": "display_data"
    }
   ],
   "source": [
    "fig, ax = plt.subplots(2, 2, figsize=(10,15))\n",
    "ax[0,0].scatter(reduced_set['ub'], reduced_set['plasma_life'])\n",
    "ax[1,0].scatter(reduced_set['ucd'], reduced_set['plasma_life'])\n",
    "ax[0,1].scatter(reduced_set['tcd'], reduced_set['plasma_life'])\n",
    "ax[1,1].scatter(reduced_set['pressure_request'], reduced_set['plasma_life'])"
   ]
  },
  {
   "cell_type": "markdown",
   "metadata": {},
   "source": [
    "The question is : what is the set of parameters $\\{u_B, u_{CD}, \\tau_{CD}, p\\}$ which maximize the plasma duration ? "
   ]
  },
  {
   "cell_type": "code",
   "execution_count": 91,
   "metadata": {},
   "outputs": [
    {
     "data": {
      "text/plain": [
       "<matplotlib.axes._subplots.AxesSubplot at 0x22a60be0>"
      ]
     },
     "execution_count": 91,
     "metadata": {},
     "output_type": "execute_result"
    },
    {
     "data": {
      "image/png": "[encoded data removed]",
      "text/plain": [
       "<matplotlib.figure.Figure at 0x22a90710>"
      ]
     },
     "metadata": {},
     "output_type": "display_data"
    }
   ],
   "source": [
    "seaborn.distplot(reduced_set['plasma_life']*1e3, axlabel='plasma duration [ms]')"
   ]
  },
  {
   "cell_type": "markdown",
   "metadata": {},
   "source": [
    "So, how to produce a plasma duration larger than 15 ms ?"
   ]
  },
  {
   "cell_type": "code",
   "execution_count": 92,
   "metadata": {},
   "outputs": [],
   "source": [
    "longest_shots = reduced_set[reduced_set['plasma_life'] > 15e-3]"
   ]
  },
  {
   "cell_type": "code",
   "execution_count": 93,
   "metadata": {},
   "outputs": [
    {
     "data": {
      "image/png": "[encoded data removed]",
      "text/plain": [
       "<matplotlib.figure.Figure at 0x2346cba8>"
      ]
     },
     "metadata": {},
     "output_type": "display_data"
    }
   ],
   "source": [
    "fig, ax = plt.subplots(3,1)\n",
    "seaborn.distplot(longest_shots['ub'], ax=ax[0])\n",
    "seaborn.distplot(longest_shots['ucd'], ax=ax[1])\n",
    "seaborn.distplot(longest_shots['tcd']*1e3, ax=ax[2], axlabel='$t_{CD}$ [ms]')\n",
    "fig.tight_layout()"
   ]
  },
  {
   "cell_type": "code",
   "execution_count": null,
   "metadata": {
    "collapsed": true
   },
   "outputs": [],
   "source": []
  }
 ],
 "metadata": {
  "kernelspec": {
   "display_name": "Python 3",
   "language": "python",
   "name": "python3"
  },
  "language_info": {
   "codemirror_mode": {
    "name": "ipython",
    "version": 3
   },
   "file_extension": ".py",
   "mimetype": "text/x-python",
   "name": "python",
   "nbconvert_exporter": "python",
   "pygments_lexer": "ipython3",
   "version": "3.6.4"
  }
 },
 "nbformat": 4,
 "nbformat_minor": 2
}
