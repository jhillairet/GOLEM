{
 "cells": [
  {
   "cell_type": "markdown",
   "metadata": {},
   "source": [
    "# GOLEM Example: Shot Data Analysis\n",
    "This notebook shows a way to get the data from a specific GOLEM shot number."
   ]
  },
  {
   "cell_type": "code",
   "execution_count": 1,
   "metadata": {},
   "outputs": [],
   "source": [
    "# Python 3\n",
    "import configparser as cp\n",
    "import numpy as np\n",
    "import matplotlib.pyplot as plt\n",
    "from urllib.request import urlopen, HTTPError\n",
    "%matplotlib inline"
   ]
  },
  {
   "cell_type": "markdown",
   "metadata": {},
   "source": [
    "## Convenient Functions"
   ]
  },
  {
   "cell_type": "code",
   "execution_count": 2,
   "metadata": {},
   "outputs": [],
   "source": [
    "def get_shot_config(shot):\n",
    "    \"\"\"\n",
    "    Get the GOLEM shot configuration.\n",
    "    \n",
    "    Parameters\n",
    "    ----------\n",
    "    shot :  int\n",
    "            GOLEM shot number\n",
    "    \n",
    "    Returns\n",
    "    -------\n",
    "    dict\n",
    "            GOLEM shot configuration dictionnary\n",
    "    \n",
    "    \"\"\"\n",
    "    url = f'http://golem.fjfi.cvut.cz/shots/{shot}/data_configuration.cfg'\n",
    "    try:\n",
    "        with urlopen(url) as response:\n",
    "            config_str = response.read().decode('utf-8')\n",
    "    \n",
    "        config = cp.RawConfigParser()\n",
    "        data_types = dict()\n",
    "        config.read_string(config_str)\n",
    "        for data_type in config.sections():\n",
    "            data_types[data_type] = dict(config.items(data_type))\n",
    "        return data_types\n",
    "    except HTTPError:\n",
    "        print('Problem with the network? Can''t open the config file')\n",
    "        return None"
   ]
  },
  {
   "cell_type": "code",
   "execution_count": 3,
   "metadata": {},
   "outputs": [],
   "source": [
    "def get_shot_data_dict(shot, signame):\n",
    "    \"\"\"\n",
    "    Returns the data dictionnary of a signal for given shot.\n",
    "    \n",
    "    Parameters\n",
    "    ----------\n",
    "    shot :  int\n",
    "            GOLEM shot number\n",
    "    signame : str\n",
    "            GOLEM signal name\n",
    "\n",
    "    Returns\n",
    "    -------\n",
    "    data : Numpy npz format Data\n",
    "            GOLEM signal data\n",
    "\n",
    "    \"\"\"\n",
    "    baseURL = \"http://golem.fjfi.cvut.cz/utils/data/\"\n",
    "    url = baseURL + str(shot) +'/' + signame + '.npz'\n",
    "    print(f'Openning {url} ...')\n",
    "    # The source file gets downloaded and saved into a temporary directory \n",
    "    ds = np.DataSource()\n",
    "    return np.load(ds.open(url, mode='br'))# as npz: # Python 3 needs to open the file in binary mode  "
   ]
  },
  {
   "cell_type": "code",
   "execution_count": 4,
   "metadata": {},
   "outputs": [],
   "source": [
    "def dict_to_y(data_dict):\n",
    "    \"\"\"\n",
    "    Returns time data arrays (y, t) from a GOLEM signal data.\n",
    "    \n",
    "    Parameters\n",
    "    ----------\n",
    "    data_dict : dict\n",
    "            GOLEM signal data.\n",
    "    \n",
    "    Returns\n",
    "    -------\n",
    "    t : Numpy array\n",
    "        time data\n",
    "    y : Numpy array\n",
    "        data array\n",
    "\n",
    "    \"\"\"\n",
    "    y = data_dict['data']\n",
    "    t = np.linspace(data_dict['t_start'], data_dict['t_end'], len(y))\n",
    "    return t, y"
   ]
  },
  {
   "cell_type": "markdown",
   "metadata": {},
   "source": [
    "## Usage Example"
   ]
  },
  {
   "cell_type": "code",
   "execution_count": 5,
   "metadata": {},
   "outputs": [],
   "source": [
    "shot = 22667"
   ]
  },
  {
   "cell_type": "code",
   "execution_count": 6,
   "metadata": {},
   "outputs": [],
   "source": [
    "cfg = get_shot_config(shot)"
   ]
  },
  {
   "cell_type": "code",
   "execution_count": 7,
   "metadata": {},
   "outputs": [
    {
     "name": "stdout",
     "output_type": "stream",
     "text": [
      "Openning http://golem.fjfi.cvut.cz/utils/data/22667/irog.npz ...\n"
     ]
    },
    {
     "data": {
      "text/plain": [
       "[<matplotlib.lines.Line2D at 0x1ec1fdb04c0>]"
      ]
     },
     "execution_count": 7,
     "metadata": {},
     "output_type": "execute_result"
    },
    {
     "data": {
      "image/png": "[encoded data removed]",
      "text/plain": [
       "<Figure size 640x480 with 1 Axes>"
      ]
     },
     "metadata": {},
     "output_type": "display_data"
    }
   ],
   "source": [
    "irog = get_shot_data_dict(shot, 'irog')\n",
    "t, _irog = dict_to_y(irog)\n",
    "plt.plot(t, _irog)"
   ]
  },
  {
   "cell_type": "markdown",
   "metadata": {},
   "source": [
    "### Gas Pressure"
   ]
  },
  {
   "cell_type": "code",
   "execution_count": 8,
   "metadata": {},
   "outputs": [
    {
     "name": "stdout",
     "output_type": "stream",
     "text": [
      "Openning http://golem.fjfi.cvut.cz/utils/data/22667/pressure.npz ...\n",
      "20.6484287318\n"
     ]
    }
   ],
   "source": [
    "# Gas Pressure\n",
    "pressure = get_shot_data_dict(shot, 'pressure')['data'] # mPa\n",
    "print(pressure)"
   ]
  },
  {
   "cell_type": "markdown",
   "metadata": {},
   "source": [
    "### Gas Specie"
   ]
  },
  {
   "cell_type": "code",
   "execution_count": 9,
   "metadata": {},
   "outputs": [
    {
     "name": "stdout",
     "output_type": "stream",
     "text": [
      "Openning http://golem.fjfi.cvut.cz/utils/data/22667/working_gas.npz ...\n",
      "H\n"
     ]
    }
   ],
   "source": [
    "# Gas Specie\n",
    "gas = get_shot_data_dict(shot, 'working_gas')['data']\n",
    "print(gas)"
   ]
  },
  {
   "cell_type": "markdown",
   "metadata": {},
   "source": [
    "### Plasma Lifetime"
   ]
  },
  {
   "cell_type": "code",
   "execution_count": 10,
   "metadata": {},
   "outputs": [
    {
     "name": "stdout",
     "output_type": "stream",
     "text": [
      "Openning http://golem.fjfi.cvut.cz/utils/data/22667/plasma.npz ...\n",
      "Openning http://golem.fjfi.cvut.cz/utils/data/22667/plasma_life.npz ...\n"
     ]
    }
   ],
   "source": [
    "# Plasma lifetime\n",
    "is_plasma = get_shot_data_dict(shot, 'plasma')['data'] # 1 or 0\n",
    "t_plasma = get_shot_data_dict(shot, 'plasma_life')['data']"
   ]
  },
  {
   "cell_type": "markdown",
   "metadata": {},
   "source": [
    "### Voltages and Times"
   ]
  },
  {
   "cell_type": "code",
   "execution_count": 11,
   "metadata": {},
   "outputs": [
    {
     "name": "stdout",
     "output_type": "stream",
     "text": [
      "Openning http://golem.fjfi.cvut.cz/utils/data/22667/ub.npz ...\n",
      "Openning http://golem.fjfi.cvut.cz/utils/data/22667/ubd.npz ...\n",
      "Openning http://golem.fjfi.cvut.cz/utils/data/22667/ucd.npz ...\n",
      "Openning http://golem.fjfi.cvut.cz/utils/data/22667/ust.npz ...\n",
      "Openning http://golem.fjfi.cvut.cz/utils/data/22667/tb.npz ...\n",
      "Openning http://golem.fjfi.cvut.cz/utils/data/22667/tbd.npz ...\n",
      "Openning http://golem.fjfi.cvut.cz/utils/data/22667/tcd.npz ...\n",
      "Openning http://golem.fjfi.cvut.cz/utils/data/22667/tst.npz ...\n"
     ]
    }
   ],
   "source": [
    "ub, ubd, ucd, ust = get_shot_data_dict(shot, 'ub')['data'], get_shot_data_dict(shot, 'ubd')['data'], get_shot_data_dict(shot, 'ucd')['data'], get_shot_data_dict(shot, 'ust')['data']\n",
    "tb, tbd, tcd, tst = get_shot_data_dict(shot, 'tb')['data'], get_shot_data_dict(shot, 'tbd')['data'], get_shot_data_dict(shot, 'tcd')['data'], get_shot_data_dict(shot, 'tst')['data'], \n"
   ]
  },
  {
   "cell_type": "code",
   "execution_count": 12,
   "metadata": {},
   "outputs": [
    {
     "name": "stdout",
     "output_type": "stream",
     "text": [
      "20.6484287318 H 0.00754\n",
      "600.0 0.0 500.0 0.0\n",
      "0.005 0.005 0.006 0.005\n"
     ]
    }
   ],
   "source": [
    "print(pressure, gas, t_plasma)\n",
    "print(ub, ubd, ucd, ust)\n",
    "print(tb, tbd, tcd, tst)"
   ]
  },
  {
   "cell_type": "code",
   "execution_count": null,
   "metadata": {},
   "outputs": [],
   "source": []
  }
 ],
 "metadata": {
  "anaconda-cloud": {},
  "kernelspec": {
   "display_name": "Python 3 (ipykernel)",
   "language": "python",
   "name": "python3"
  },
  "language_info": {
   "codemirror_mode": {
    "name": "ipython",
    "version": 3
   },
   "file_extension": ".py",
   "mimetype": "text/x-python",
   "name": "python",
   "nbconvert_exporter": "python",
   "pygments_lexer": "ipython3",
   "version": "3.10.8"
  },
  "toc": {
   "base_numbering": 1,
   "nav_menu": {},
   "number_sections": true,
   "sideBar": true,
   "skip_h1_title": true,
   "title_cell": "Table of Contents",
   "title_sidebar": "Contents",
   "toc_cell": false,
   "toc_position": {},
   "toc_section_display": true,
   "toc_window_display": false
  }
 },
 "nbformat": 4,
 "nbformat_minor": 1
}
