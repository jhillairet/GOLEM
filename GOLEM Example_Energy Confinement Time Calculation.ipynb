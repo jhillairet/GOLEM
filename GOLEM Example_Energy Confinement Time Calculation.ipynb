{
 "cells": [
  {
   "cell_type": "markdown",
   "metadata": {},
   "source": [
    "# GOLEM Example: Electron Energy Confinement Time $\\tau_E$ Calculation"
   ]
  },
  {
   "cell_type": "markdown",
   "metadata": {},
   "source": [
    "Strategic flowchart (credit from GOLEM website)\n",
    "<br/>\n",
    "<img src=\"doc/flowchart_energy_confinement_time.jpg\" width=\"75%\">"
   ]
  },
  {
   "cell_type": "markdown",
   "metadata": {},
   "source": [
    "## Python Intro"
   ]
  },
  {
   "cell_type": "code",
   "execution_count": null,
   "metadata": {},
   "outputs": [],
   "source": [
    "### NOTE: Please use  python 3 version of language/kernel\n",
    "## First we import the necessary modules (libraries)\n",
    "# activates the inline plotting backend in the notebook\n",
    "%matplotlib inline \n",
    "import matplotlib.pyplot as plt\n",
    "import numpy as np\n",
    "import sys\n",
    "from scipy.integrate import cumtrapz\n",
    "from scipy import constants\n",
    "from urllib.request  import urlopen #python 3.0 \n",
    "from urllib.request  import urlretrieve #python 3.0 \n",
    "import urllib\n",
    "import os\n",
    "\n",
    "# setup the local directory in which to save the data\n",
    "try:\n",
    "        os.stat('shots/')\n",
    "except:\n",
    "        os.mkdir('shots/') "
   ]
  },
  {
   "cell_type": "code",
   "execution_count": null,
   "metadata": {},
   "outputs": [],
   "source": [
    "# Next we define some fundamental constants and parameters\n",
    "RogowskiCalibration = 5.3e6  # Calibration for Rogowski coil\n",
    "UloopCalibration = 5.5 # Calibration for U loop measurement\n",
    "V_p = 0.057 #m^3 Plasma volume\n",
    "k_B = constants.k # Boltzmann constant\n",
    "eV = constants.e # 1 eV equivalent to J\n",
    "baseURL = \"http://golem.fjfi.cvut.cz/utils/data/\""
   ]
  },
  {
   "cell_type": "code",
   "execution_count": null,
   "metadata": {},
   "outputs": [],
   "source": [
    "VacuumShotNo = 22475\n",
    "PlasmaShotNo = 22471"
   ]
  },
  {
   "cell_type": "code",
   "execution_count": null,
   "metadata": {},
   "outputs": [],
   "source": [
    "#The following function will download the text file of the given data in the given shot and read it into an array and return it.\n",
    "ds = np.DataSource()\n",
    "\n",
    "def open_data(shot_no, data_id):\n",
    "    shotDIR = 'shots/' + str(shot_no)\n",
    "    dataADR = str(shot_no) + '/' + str(data_id) + '.npz'\n",
    "    dataURL = baseURL + dataADR\n",
    "    try:\n",
    "        os.stat(shotDIR)\n",
    "    except:\n",
    "        os.mkdir(shotDIR)  \n",
    "    try:\n",
    "        data = np.load('shots/' + dataADR)\n",
    "    except:    \n",
    "        urlretrieve (dataURL,'shots/' + dataADR)\n",
    "        data = np.load('shots/' + dataADR)\n",
    "    return data "
   ]
  },
  {
   "cell_type": "markdown",
   "metadata": {},
   "source": [
    "## Chamber resistance $R_{ch}$ calculation from vacuum shot\n",
    "### Plot raw data from NIstandard DAS"
   ]
  },
  {
   "cell_type": "code",
   "execution_count": null,
   "metadata": {},
   "outputs": [],
   "source": [
    "# First let's get the data from the DAS in the columns specified by the given identifiers.\n",
    "IDuloop = open_data(VacuumShotNo,'uloop')\n",
    "IDirog = open_data(VacuumShotNo,'irog')\n",
    "time =  np.linspace(IDuloop['t_start'],IDuloop['t_end'], len(IDuloop['data']))\n",
    "\n",
    "# Let's show raw data:\n",
    "f,ax = plt.subplots(2,sharex=True)\n",
    "f.suptitle('Vacuum shot: #'+str(VacuumShotNo)+ '- raw data from NIstandard DAS')\n",
    "\n",
    "f.subplots_adjust(hspace=0.05)\n",
    "ax[0].set_ylim(0,2)\n",
    "ax[0].set_ylabel('channel #1 [V]')\n",
    "ax[0].plot(time*1e3, IDuloop['data'],label='ID:uloop')\n",
    "ax[1].set_ylim(-.1,0.3)\n",
    "ax[1].set_ylabel('channel #3 [V]')\n",
    "ax[1].plot(time*1e3, IDirog['data'],label='ID:irog')\n",
    "ax[1].set_xlabel('Time [ms]')\n",
    "[a.legend(loc='best') for a in ax]\n",
    "plt.show()"
   ]
  },
  {
   "cell_type": "markdown",
   "metadata": {},
   "source": [
    "### Get real physical quantities from raw data\n",
    "Physical quantities can be obtained by multiplying the raw data by appropriate calibration constants. In the case of the current, the derivative is measured, so the signal has to be numerically integrated."
   ]
  },
  {
   "cell_type": "code",
   "execution_count": null,
   "metadata": {},
   "outputs": [],
   "source": [
    "# Uloop from IDuloop needs only multiplication\n",
    "U_l = IDuloop['data']*UloopCalibration\n",
    "# Chamber current I_ch needs offset correction, integration and calibration\n",
    "i_offset = time.searchsorted(.004)\n",
    "offset = np.mean(IDirog['data'][:i_offset]) # Up to 4 ms no signal, good zero specification\n",
    "I_ch = cumtrapz(IDirog['data']-offset, time,initial=0)  # offset correction and integration\n",
    "I_ch *= RogowskiCalibration # calibration\n",
    "\n",
    "# And let's plot it\n",
    "f,ax = plt.subplots(2,sharex=True)\n",
    "f.subplots_adjust(hspace=0.05)\n",
    "f.suptitle('Vacuum shot: #'+str(VacuumShotNo)+ '- real data')\n",
    "\n",
    "ax[0].set_ylabel('$U_l$ [V]')\n",
    "ax[0].plot(time*1e3,U_l,label='Loop voltage $U_l$')\n",
    "ax[1].set_ylabel('$I_{ch}$ [A]')\n",
    "ax[1].plot(time*1e3,I_ch,label='Chamber current $I_{ch}$')\n",
    "ax[1].set_xlabel('Time [ms]')\n",
    "[a.legend(loc='best') for a in ax]\n",
    "plt.show()"
   ]
  },
  {
   "cell_type": "markdown",
   "metadata": {},
   "source": [
    "### Final chamber resistance specification\n",
    "The chanber resistnace should be calculated in the time span where the physical quantities are reasonably stationary."
   ]
  },
  {
   "cell_type": "code",
   "execution_count": null,
   "metadata": {},
   "outputs": [],
   "source": [
    "t_start = time.searchsorted(0.014) \n",
    "t_end = time.searchsorted(0.015) \n",
    "# R_ch calculation via Ohm's law:\n",
    "R_ch = (U_l[t_start:t_end]/I_ch[t_start:t_end]) # in Ohms\n",
    "# final value\n",
    "R_ch, R_err = np.mean(R_ch), np.std(R_ch)\n",
    "\n",
    "print(\"Chamber resistance =  (%.2f +/- %.2f) mOhm\"%(R_ch*1e3, R_err*1e3))"
   ]
  },
  {
   "cell_type": "markdown",
   "metadata": {},
   "source": [
    "## Energy confinement time  $\\tau_{E}$ calculation from plasma shot\n",
    "### Plot raw data from NIstandard DAS and interferometer"
   ]
  },
  {
   "cell_type": "code",
   "execution_count": null,
   "metadata": {},
   "outputs": [],
   "source": [
    "# Get data\n",
    "IDuloop = open_data(PlasmaShotNo,'uloop')\n",
    "IDirog = open_data(PlasmaShotNo,'irog')\n",
    "#time =  np.linspace(IDuloop['t_start'],IDuloop['t_end'], len(IDuloop['data']))\n",
    "\n",
    "IDelectron_density = open_data(PlasmaShotNo,'electron_density')\n",
    "#interpolate the density on the same time axis as the rest of the quantities\n",
    "n_e = IDelectron_density['data']\n",
    "time_ne =  np.linspace(IDelectron_density['t_start'],IDelectron_density['t_end'], len(n_e))\n",
    "n_e = np.interp(time, time_ne, n_e)\n",
    "\n",
    "# Let's show raw data from NIstandard:\n",
    "f,ax = plt.subplots(2,sharex=True)\n",
    "f.subplots_adjust(hspace=0.1)\n",
    "f.suptitle('Plasma shot: #'+str(PlasmaShotNo)+ '- raw data from NIstandard DAS')\n",
    "\n",
    "ax[0].set_ylim(0,2)\n",
    "ax[0].set_ylabel('channel #1 [V]')\n",
    "ax[0].plot(time*1e3, IDuloop['data'],label='ID:uloop')\n",
    "ax[1].set_ylim(0,0.3)\n",
    "ax[1].set_ylabel('channel #3 [V]')\n",
    "ax[1].plot(time*1e3, IDirog['data'],label='ID:irog')\n",
    "ax[1].set_xlabel('Time [ms]')\n",
    "[a.legend(loc='best') for a in ax]\n",
    "plt.show()\n",
    "\n",
    "# Let's show raw data from interferometer diagnostics :\n",
    "f,ax = plt.subplots()\n",
    "ax.set_title('Plasma shot: #'+str(PlasmaShotNo)+ '- raw data from TektronixDPO DAS')\n",
    "\n",
    "ax.set_xlabel('Time [ms]')\n",
    "ax.set_ylabel('$n_e\\ \\mathrm{[m^{-3}]}$')\n",
    "ax.plot(time*1e3, n_e,label='ID:electron_density')\n",
    "ax.legend() \n",
    "ax.set_ylim(0,None)\n",
    "plt.show()"
   ]
  },
  {
   "cell_type": "markdown",
   "metadata": {},
   "source": [
    "## Get real physical data "
   ]
  },
  {
   "cell_type": "code",
   "execution_count": null,
   "metadata": {},
   "outputs": [],
   "source": [
    "# Uloop from IDuloop needs only multiplication\n",
    "U_l = IDuloop['data']*UloopCalibration\n",
    "# Chamber current I_ch needs offset correction, integration and calibration\n",
    "offset = np.mean(IDirog['data'][:i_offset]) # Up to 4 ms no signal, good zero specification\n",
    "I_chANDp = cumtrapz(IDirog['data']-offset, time, initial=0)  # offset correction and integration\n",
    "I_chANDp *= RogowskiCalibration # calibration\n",
    "I_p=I_chANDp-U_l/R_ch # getting real plasma current from Ohm's law\n",
    "\n",
    "# And let's plot it\n",
    "f,ax = plt.subplots(3,sharex=True )\n",
    "f.subplots_adjust(hspace=0.05)\n",
    "f.suptitle(r'Plasma shot: #'+str(PlasmaShotNo)+ '- real data')\n",
    "\n",
    "ax[0].set_ylabel('$U_l$ [V]')\n",
    "ax[0].plot(time*1e3, U_l,label='Loop voltage $U_l$')\n",
    "ax[1].set_ylabel('$I_{ch+p}$ [kA]')\n",
    "ax[1].plot(time*1e3,I_chANDp/1e3,label='Chamber+plasma current $I_{ch+p}$')\n",
    "ax[2].set_ylabel('$I_{p}$ [kA]')\n",
    "ax[2].plot(time*1e3,I_p/1e3,label='Plasma current $I_{p}$')\n",
    "ax[2].set_xlabel('Time [ms]')\n",
    "[a.legend(loc='best') for a in ax]\n",
    "plt.show()"
   ]
  },
  {
   "cell_type": "markdown",
   "metadata": {},
   "source": [
    "## Data correlation .."
   ]
  },
  {
   "cell_type": "code",
   "execution_count": null,
   "metadata": {},
   "outputs": [],
   "source": [
    "#select only a signal with the plasma \n",
    "i_start,i_end = time.searchsorted((IDuloop['plasma_start']+5e-4,IDuloop['plasma_end']-5e-4))\n",
    "\n",
    "n_e = n_e[i_start:i_end]\n",
    "I_p = I_p[i_start:i_end]\n",
    "U_l = U_l[i_start:i_end]\n",
    "time = time[i_start:i_end]\n",
    "\n",
    "\n",
    "# And let's plot it\n",
    "f,ax = plt.subplots(3,sharex=True)\n",
    "f.subplots_adjust(hspace=0.05)\n",
    "f.suptitle('Plasma shot: #'+str(PlasmaShotNo)+ '- real data')\n",
    "\n",
    "ax[0].set_ylabel('$U_l$ [V]')\n",
    "ax[0].plot(time*1e3, U_l,label='Loop voltage $U_l$')\n",
    "ax[1].set_ylabel('$I_{p}$ [kA]')\n",
    "ax[1].plot(time*1e3,I_p/1e3,label='Plasma current $I_{p}$')\n",
    "ax[2].set_ylabel('$n_{e}$ [$m^{-3}$]')\n",
    "ax[2].plot(time*1e3,n_e,label='Electron density $n_{e}$')\n",
    "ax[-1].set_xlabel('Time [ms]')\n",
    "[a.legend(loc='best') for a in ax]\n",
    "plt.show()"
   ]
  },
  {
   "cell_type": "markdown",
   "metadata": {},
   "source": [
    "## Final calculations"
   ]
  },
  {
   "cell_type": "code",
   "execution_count": null,
   "metadata": {},
   "outputs": [],
   "source": [
    "R_p = np.maximum(0,U_l/I_p) # plasma resistivity adopted to avoid power(xx,-2./3) problems @ T_e calculation\n",
    "P_OH = U_l*I_p  # Plasma heating power\n",
    "T_e = 0.9*R_p**(-2./3) # Electron temperature (the GOLEM specific case)\n",
    "W_p = V_p*n_e*eV*T_e/3 # Energy content in the plasma\n",
    "# Let's make final calculations in the stationary phase to avoid complex derivation calculations of plasma energy balance\n",
    "imin,imax = time.searchsorted((0.016, 0.020))\n",
    "P_OH = P_OH[imin:imax]\n",
    "W_p = W_p[imin:imax]\n",
    "time = time[imin:imax]\n",
    "tau = W_p/P_OH \n",
    "#Plot\n",
    "f,ax = plt.subplots(3, sharex=True)\n",
    "f.suptitle('Plasma shot: #'+str(PlasmaShotNo)+ ' energy balance')\n",
    "\n",
    "f.subplots_adjust(hspace=0.001)\n",
    "ax[0].set_ylabel('$P_{OH}$ [kW]')\n",
    "ax[0].plot(time*1e3, P_OH/1000,label='Ohming heating power $P_{OH}$')\n",
    "ax[1].set_ylabel('$W_p$ [J]')\n",
    "ax[1].plot(time*1e3,W_p,label='Plasma energy volume $W_p$')\n",
    "ax[2].set_ylabel(r'$\\tau_E$ [us]')\n",
    "ax[2].plot(time*1e3,tau*1e6,label=r'Energy confinement time $\\tau_E$')\n",
    "ax[2].set_ylim(0,80)\n",
    "ax[2].grid('on')\n",
    "[a.legend(loc='best') for a in ax]\n",
    "ax[-1].set_xlabel('Time [ms]')\n",
    "plt.show()\n",
    "\n",
    "# Final calculation\n",
    "tau, tau_err = np.mean(tau), np.std(tau)\n",
    "print(\"Energy confinement time =  (%.0f +/- %.0f) us\"%(tau*1e6,tau_err*1e6))"
   ]
  },
  {
   "cell_type": "markdown",
   "metadata": {},
   "source": [
    "Resources:\n",
    "\n",
    "* [(.html) version](http://golem.fjfi.cvut.cz/wikiraw/Education/ExperimentMenu/ElectronEnergyConfinementTime/Code/Jupyter/script.html)\n"
   ]
  },
  {
   "cell_type": "code",
   "execution_count": null,
   "metadata": {},
   "outputs": [],
   "source": []
  }
 ],
 "metadata": {
  "anaconda-cloud": {},
  "kernelspec": {
   "display_name": "Python 3 (ipykernel)",
   "language": "python",
   "name": "python3"
  },
  "language_info": {
   "codemirror_mode": {
    "name": "ipython",
    "version": 3
   },
   "file_extension": ".py",
   "mimetype": "text/x-python",
   "name": "python",
   "nbconvert_exporter": "python",
   "pygments_lexer": "ipython3",
   "version": "3.10.8"
  },
  "toc": {
   "base_numbering": 1,
   "nav_menu": {},
   "number_sections": true,
   "sideBar": true,
   "skip_h1_title": true,
   "title_cell": "Table of Contents",
   "title_sidebar": "Contents",
   "toc_cell": false,
   "toc_position": {},
   "toc_section_display": true,
   "toc_window_display": false
  }
 },
 "nbformat": 4,
 "nbformat_minor": 2
}
