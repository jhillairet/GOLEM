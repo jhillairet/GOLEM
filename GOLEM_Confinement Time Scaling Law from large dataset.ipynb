{
 "cells": [
  {
   "cell_type": "markdown",
   "metadata": {},
   "source": [
    "# Confinement Time Scaling Law on a Large GOLEM Dataset"
   ]
  },
  {
   "cell_type": "code",
   "execution_count": null,
   "metadata": {},
   "outputs": [],
   "source": [
    "%matplotlib notebook\n",
    "import matplotlib.pyplot as plt\n",
    "import numpy as np\n",
    "import pandas as pd\n",
    "from sklearn import linear_model"
   ]
  },
  {
   "cell_type": "markdown",
   "metadata": {},
   "source": [
    "The purpose of this notebook is to find a scaling law which fit the GOLEM shot confinement times. The data have been collected from shot #21000 to #29162 of the GOLEM shot database."
   ]
  },
  {
   "cell_type": "code",
   "execution_count": null,
   "metadata": {},
   "outputs": [],
   "source": [
    "# open the shot database\n",
    "dataset = pd.read_csv('close_shots.txt', delimiter='\\s+', index_col='shots')\n",
    "dataset['R'] = 0.4 # add the Vessel Major Radius column\n",
    "dataset['a'] = 0.06 # add the Plasma minor Radius column"
   ]
  },
  {
   "cell_type": "markdown",
   "metadata": {},
   "source": [
    "## Cleaning the data"
   ]
  },
  {
   "cell_type": "markdown",
   "metadata": {},
   "source": [
    "Next we clean the data according to GOLEM team recommandations to avoid failed shot and NaN data:"
   ]
  },
  {
   "cell_type": "code",
   "execution_count": null,
   "metadata": {},
   "outputs": [],
   "source": [
    "print('Initial size of the dataset before cleaning: ', dataset.size)\n",
    "\n",
    "# Drop vacuum shots\n",
    "dataset = dataset.drop(dataset[dataset['plasma'] != 1].index)\n",
    "\n",
    "# Drop plasma longer than 25 ms (not physical)\n",
    "dataset = dataset.drop(dataset[dataset['plasma_life'] > 25e-3].index)\n",
    "\n",
    "# Drop loop voltage below than 5V (not physical)\n",
    "dataset = dataset.drop(dataset[dataset['loop_voltage_max'] < 5].index)\n",
    "\n",
    "# Drop pressure larger than 100mPa\n",
    "dataset = dataset.drop(dataset[dataset['pressure'] > 100].index)\n",
    "\n",
    "# Drop shot which confinement time is negative\n",
    "dataset = dataset.drop(dataset[dataset['electron_confinement_time'] <= 0].index)\n",
    "\n",
    "# Drop shot which confinement time too high (not physical!)\n",
    "dataset = dataset.drop(dataset[dataset['electron_confinement_time'] > 3e-4].index)\n",
    "\n",
    "# Drop negative pressure request\n",
    "dataset = dataset.drop(dataset[dataset['pressure_request'] < 0].index)\n",
    "\n",
    "# Drop non physical ucd values\n",
    "dataset = dataset.drop(dataset[dataset['ucd'] < 200].index)\n",
    "\n",
    "# Drop non breakdown\n",
    "dataset = dataset.drop(dataset[dataset['breakdown_probability'] == 0].index)\n",
    "\n",
    "print('final size of the dataset after cleaning:', dataset.size)"
   ]
  },
  {
   "cell_type": "markdown",
   "metadata": {},
   "source": [
    "## Confinement time scaling law"
   ]
  },
  {
   "cell_type": "markdown",
   "metadata": {},
   "source": [
    "In this section we seek for the confinement scaling law in GOLEM. The general confinement time scaling law is:\n",
    "\n",
    "$$\n",
    "\\tau = A I_p^a B_t^b P_{OH}^c n_e^d R^e \n",
    "$$"
   ]
  },
  {
   "cell_type": "markdown",
   "metadata": {},
   "source": [
    "We recall that : \n",
    "$$\n",
    "X^\\alpha = e^{\\alpha \\log X}\n",
    "$$"
   ]
  },
  {
   "cell_type": "markdown",
   "metadata": {},
   "source": [
    "$$\n",
    "\\log (X^\\alpha) = \\alpha \\log X\n",
    "$$\n",
    "\n",
    "So,\n",
    "$$\n",
    "\\log\\tau\n",
    "= A' + a \\log I_p + b\\log B_t + c \\log P_{OH} + d\\log(n_e) + e\\log(R)\n",
    "$$"
   ]
  },
  {
   "cell_type": "markdown",
   "metadata": {},
   "source": [
    "In the following, we are using the measured gaz pressure as a proxy of the electron density $n_e$, by using the signal \"electron_density_equilibrium\".  "
   ]
  },
  {
   "cell_type": "code",
   "execution_count": null,
   "metadata": {},
   "outputs": [],
   "source": [
    "# let's first filter only the usefull data from the whole dataset\n",
    "dataset_sl = dataset[['electron_confinement_time', 'plasma_current_mean', 'toroidal_field_mean', \n",
    "                      'input_power_plasma_mean', 'pressure', 'R', 'electron_density_equilibrium']].copy()\n",
    "dataset_sl['ne'] = dataset_sl['electron_density_equilibrium']/1e19\n",
    "\n",
    "# Convert into log values and remove spurious points\n",
    "dataset_sl_log = dataset_sl.apply(np.log).dropna()\n",
    "\n",
    "# Make a linear regression on the log values\n",
    "lin_reg = linear_model.LinearRegression()\n",
    "lin_reg.fit(dataset_sl_log[['plasma_current_mean', 'toroidal_field_mean', 'input_power_plasma_mean', 'ne', 'R']], \n",
    "            dataset_sl_log[['electron_confinement_time']])\n",
    "coefs = np.squeeze(lin_reg.coef_)\n",
    "\n",
    "print(f'Scaling coefficients: a={coefs[0]:0.3f}, b={coefs[1]:0.3f}, c={coefs[2]:0.3f}, d={coefs[3]:0.3f}, e={coefs[4]:0.3f}')\n",
    "print(f'Intersection A: {lin_reg.intercept_}')"
   ]
  },
  {
   "cell_type": "code",
   "execution_count": null,
   "metadata": {},
   "outputs": [],
   "source": [
    "tau_scale = np.exp(lin_reg.intercept_) * \\\n",
    "        dataset_sl['plasma_current_mean']**coefs[0] * \\\n",
    "        dataset_sl['toroidal_field_mean']**coefs[1] * \\\n",
    "        dataset_sl['input_power_plasma_mean']**coefs[2] * \\\n",
    "        dataset_sl['ne']**coefs[3] * \\\n",
    "        dataset_sl['R']**coefs[4]\n",
    "\n",
    "fig, ax = plt.subplots()\n",
    "ax.scatter(tau_scale, dataset_sl['electron_confinement_time'], alpha=0.2)\n",
    "ax.plot(tau_scale, tau_scale, color='r')\n",
    "ax.set_xlim(np.amin(tau_scale), np.amax(tau_scale))\n",
    "ax.set_ylim(dataset_sl['electron_confinement_time'].min(), dataset_sl['electron_confinement_time'].max())\n",
    "ax.set_xscale('log')\n",
    "ax.set_yscale('log')\n",
    "ax.grid(True, which='minor')\n",
    "ax.set_xlabel(r' $ A I_p^a B_t^b P_{OH}^c n_e^d $', fontsize=14)\n",
    "ax.set_ylabel(r'$ \\tau_e $ [s]', fontsize=14)\n",
    "ax.text(1e-5, 5e-6, f'a={coefs[0]:0.2f}, b={coefs[1]:0.2f}, c={coefs[2]:0.2f}, d={coefs[3]:0.2f}', fontsize=12)\n",
    "ax.set_title(f'GOLEM pulses #{dataset.index[0]} to #{dataset.index[-1]}')\n",
    "fig.tight_layout()\n",
    "\n",
    "fig.savefig('GOLEM_Tau_scaling_law.png')"
   ]
  },
  {
   "cell_type": "code",
   "execution_count": null,
   "metadata": {},
   "outputs": [],
   "source": []
  }
 ],
 "metadata": {
  "kernelspec": {
   "display_name": "Python 3 (ipykernel)",
   "language": "python",
   "name": "python3"
  },
  "language_info": {
   "codemirror_mode": {
    "name": "ipython",
    "version": 3
   },
   "file_extension": ".py",
   "mimetype": "text/x-python",
   "name": "python",
   "nbconvert_exporter": "python",
   "pygments_lexer": "ipython3",
   "version": "3.10.8"
  },
  "toc": {
   "base_numbering": 1,
   "nav_menu": {},
   "number_sections": true,
   "sideBar": true,
   "skip_h1_title": true,
   "title_cell": "Table of Contents",
   "title_sidebar": "Contents",
   "toc_cell": false,
   "toc_position": {},
   "toc_section_display": true,
   "toc_window_display": false
  }
 },
 "nbformat": 4,
 "nbformat_minor": 2
}
