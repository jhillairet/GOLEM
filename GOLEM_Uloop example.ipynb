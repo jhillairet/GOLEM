{
 "cells": [
  {
   "cell_type": "code",
   "execution_count": 1,
   "metadata": {},
   "outputs": [],
   "source": [
    "%matplotlib inline\n",
    "import matplotlib.pyplot as plt\n",
    "import numpy as np"
   ]
  },
  {
   "cell_type": "markdown",
   "metadata": {},
   "source": [
    "In this Notebook, we import the loop voltage of a given GOLEM shot"
   ]
  },
  {
   "cell_type": "code",
   "execution_count": 2,
   "metadata": {},
   "outputs": [],
   "source": [
    "ShotNo = 26023\n",
    "diagnSPEC = \"loop_voltage\""
   ]
  },
  {
   "cell_type": "code",
   "execution_count": 3,
   "metadata": {},
   "outputs": [],
   "source": [
    "# Forge the data URL\n",
    "baseURL = \"http://golem.fjfi.cvut.cz/utils/data/\" \n",
    "dataURL = baseURL+ str(ShotNo) + '/' + diagnSPEC + '.npz'"
   ]
  },
  {
   "cell_type": "code",
   "execution_count": 4,
   "metadata": {},
   "outputs": [
    {
     "name": "stdout",
     "output_type": "stream",
     "text": [
      "Retrieve data from http://golem.fjfi.cvut.cz/utils/data/26023/loop_voltage.npz\n"
     ]
    }
   ],
   "source": [
    "# Retrieve data\n",
    "print(f\"Retrieve data from {dataURL}\")\n",
    "data_source = np.DataSource('.').open(dataURL) # also save the downloaded file into current dir\n",
    "uloop = np.load(data_source.name)"
   ]
  },
  {
   "cell_type": "markdown",
   "metadata": {},
   "source": [
    "Loading a .npz file contains more than the raw data, but also additional information of the diagnostic"
   ]
  },
  {
   "cell_type": "code",
   "execution_count": 5,
   "metadata": {},
   "outputs": [
    {
     "name": "stdout",
     "output_type": "stream",
     "text": [
      "data[info]=b'Loop voltage'\n",
      "data[tvec_err]=None\n",
      "data[scale]=1\n",
      "data[name]=b'loop_voltage'\n",
      "data[ax_labels]=[b'Time [s]' b'Voltage [V]']\n",
      "data[labels]=[None]\n",
      "data[data_err]=None\n",
      "data[t_start]=0.0\n",
      "data[plasma_start]=nan\n",
      "data[data]=[ 0.         0.         0.        ... -3.2897975 -3.3166485 -3.3166485]\n",
      "data[plasma_end]=nan\n",
      "data[t_end]=0.039999\n"
     ]
    }
   ],
   "source": [
    "for key, value in uloop.items():\n",
    "    print(f\"data[{key}]={value}\")"
   ]
  },
  {
   "cell_type": "code",
   "execution_count": 6,
   "metadata": {},
   "outputs": [
    {
     "data": {
      "text/plain": [
       "[<matplotlib.lines.Line2D at 0x7e5f278>]"
      ]
     },
     "execution_count": 6,
     "metadata": {},
     "output_type": "execute_result"
    },
    {
     "data": {
      "image/png": "[encoded data removed]",
      "text/plain": [
       "<Figure size 432x288 with 1 Axes>"
      ]
     },
     "metadata": {
      "needs_background": "light"
     },
     "output_type": "display_data"
    }
   ],
   "source": [
    "fig, ax = plt.subplots()\n",
    "ax.plot(uloop['data'])"
   ]
  },
  {
   "cell_type": "code",
   "execution_count": 7,
   "metadata": {},
   "outputs": [
    {
     "data": {
      "text/plain": [
       "Text(0.5, 1.0, 'loop_voltage')"
      ]
     },
     "execution_count": 7,
     "metadata": {},
     "output_type": "execute_result"
    },
    {
     "data": {
      "image/png": "[encoded data removed]",
      "text/plain": [
       "<Figure size 432x288 with 1 Axes>"
      ]
     },
     "metadata": {
      "needs_background": "light"
     },
     "output_type": "display_data"
    }
   ],
   "source": [
    "# the time array can be reconstructed from the diagnostic data:\n",
    "t_uloop = np.linspace(uloop['t_start'], uloop['t_end'], len(uloop['data']))\n",
    "fig, ax = plt.subplots()\n",
    "ax.plot(t_uloop, uloop['data'])\n",
    "ax.set_title(uloop['name'].astype(str)) # astype(str) to convert the byte mode"
   ]
  },
  {
   "cell_type": "code",
   "execution_count": null,
   "metadata": {},
   "outputs": [],
   "source": []
  }
 ],
 "metadata": {
  "kernelspec": {
   "display_name": "Python 3",
   "language": "python",
   "name": "python3"
  },
  "language_info": {
   "codemirror_mode": {
    "name": "ipython",
    "version": 3
   },
   "file_extension": ".py",
   "mimetype": "text/x-python",
   "name": "python",
   "nbconvert_exporter": "python",
   "pygments_lexer": "ipython3",
   "version": "3.6.7"
  }
 },
 "nbformat": 4,
 "nbformat_minor": 2
}
