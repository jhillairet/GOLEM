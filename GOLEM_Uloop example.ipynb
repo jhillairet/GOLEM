{
 "cells": [
  {
   "cell_type": "code",
   "execution_count": 103,
   "metadata": {},
   "outputs": [],
   "source": [
    "%matplotlib inline\n",
    "import matplotlib.pyplot as plt\n",
    "import numpy as np"
   ]
  },
  {
   "cell_type": "markdown",
   "metadata": {},
   "source": [
    "In this Notebook, we import the loop voltage of a given GOLEM shot"
   ]
  },
  {
   "cell_type": "code",
   "execution_count": 90,
   "metadata": {},
   "outputs": [],
   "source": [
    "ShotNo = 26023\n",
    "diagnSPEC = \"loop_voltage\""
   ]
  },
  {
   "cell_type": "code",
   "execution_count": 91,
   "metadata": {},
   "outputs": [],
   "source": [
    "# Forge the data URL\n",
    "baseURL = \"http://golem.fjfi.cvut.cz/utils/data/\" \n",
    "dataURL = baseURL+ str(ShotNo) + '/' + diagnSPEC + '.npz'"
   ]
  },
  {
   "cell_type": "code",
   "execution_count": 100,
   "metadata": {},
   "outputs": [
    {
     "name": "stdout",
     "output_type": "stream",
     "text": [
      "Retrieve data from http://golem.fjfi.cvut.cz/utils/data/16023/loop_voltage.npz\n"
     ]
    }
   ],
   "source": [
    "# Retrieve data\n",
    "print(f\"Retrieve data from {dataURL}\")\n",
    "data_source = np.DataSource('.').open(dataURL) # also save the downloaded file into current dir\n",
    "uloop = np.load(data_source.name)"
   ]
  },
  {
   "cell_type": "markdown",
   "metadata": {},
   "source": [
    "Loading a .npz file contains more than the raw data, but also additional information of the diagnostic"
   ]
  },
  {
   "cell_type": "code",
   "execution_count": 104,
   "metadata": {},
   "outputs": [
    {
     "name": "stdout",
     "output_type": "stream",
     "text": [
      "data[info]=b'Loop voltage'\n",
      "data[tvec_err]=None\n",
      "data[scale]=1\n",
      "data[name]=b'loop_voltage'\n",
      "data[ax_labels]=[b'Time [s]' b'Voltage [V]']\n",
      "data[labels]=[None]\n",
      "data[data_err]=None\n",
      "data[t_start]=0.0\n",
      "data[plasma_start]=0.00821\n",
      "data[data]=[ 0.          0.          0.         ..., -2.99438715 -2.97424054\n",
      " -2.93395853]\n",
      "data[plasma_end]=0.01663\n",
      "data[t_end]=0.039999\n"
     ]
    }
   ],
   "source": [
    "for key, value in uloop.items():\n",
    "    print(f\"data[{key}]={value}\")"
   ]
  },
  {
   "cell_type": "code",
   "execution_count": 105,
   "metadata": {},
   "outputs": [
    {
     "data": {
      "text/plain": [
       "[<matplotlib.lines.Line2D at 0x86da438>]"
      ]
     },
     "execution_count": 105,
     "metadata": {},
     "output_type": "execute_result"
    },
    {
     "data": {
      "image/png": "[encoded data removed]",
      "text/plain": [
       "<matplotlib.figure.Figure at 0x9898048>"
      ]
     },
     "metadata": {},
     "output_type": "display_data"
    }
   ],
   "source": [
    "fig, ax = plt.subplots()\n",
    "ax.plot(uloop['data'])"
   ]
  },
  {
   "cell_type": "code",
   "execution_count": 121,
   "metadata": {},
   "outputs": [
    {
     "data": {
      "text/plain": [
       "Text(0.5,1,'loop_voltage')"
      ]
     },
     "execution_count": 121,
     "metadata": {},
     "output_type": "execute_result"
    },
    {
     "data": {
      "image/png": "[encoded data removed]",
      "text/plain": [
       "<matplotlib.figure.Figure at 0xc853940>"
      ]
     },
     "metadata": {},
     "output_type": "display_data"
    }
   ],
   "source": [
    "# the time array can be reconstructed from the diagnostic data:\n",
    "t_uloop = np.linspace(uloop['t_start'], uloop['t_end'], len(uloop['data']))\n",
    "fig, ax = plt.subplots()\n",
    "ax.plot(t_uloop, uloop['data'])\n",
    "ax.set_title(uloop['name'].astype(str)) # astype(str) to convert the byte mode"
   ]
  },
  {
   "cell_type": "code",
   "execution_count": null,
   "metadata": {},
   "outputs": [],
   "source": []
  }
 ],
 "metadata": {
  "kernelspec": {
   "display_name": "Python 3",
   "language": "python",
   "name": "python3"
  },
  "language_info": {
   "codemirror_mode": {
    "name": "ipython",
    "version": 3
   },
   "file_extension": ".py",
   "mimetype": "text/x-python",
   "name": "python",
   "nbconvert_exporter": "python",
   "pygments_lexer": "ipython3",
   "version": "3.6.3"
  }
 },
 "nbformat": 4,
 "nbformat_minor": 2
}
