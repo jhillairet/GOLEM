{
 "cells": [
  {
   "cell_type": "code",
   "execution_count": null,
   "metadata": {},
   "outputs": [],
   "source": [
    "%matplotlib notebook\n",
    "import numpy as np\n",
    "import matplotlib.pyplot as plt\n",
    "import pandas as pd\n",
    "import seaborn as sb\n",
    "sb.set()  # seaborn style plots\n",
    "from sklearn import linear_model"
   ]
  },
  {
   "cell_type": "code",
   "execution_count": null,
   "metadata": {},
   "outputs": [],
   "source": [
    "ds = pd.read_csv('close_shots_ASPNF2019.txt', delimiter='\\s+', index_col='shots')"
   ]
  },
  {
   "cell_type": "code",
   "execution_count": null,
   "metadata": {},
   "outputs": [],
   "source": [
    "print(f'During the ASPNF2019, {len(ds)} GOLEM shots have been performed by 5 groups of students')"
   ]
  },
  {
   "cell_type": "markdown",
   "metadata": {},
   "source": [
    "# Confinement Time scaling with density"
   ]
  },
  {
   "cell_type": "markdown",
   "metadata": {},
   "source": [
    "Here we focus on the evolution of the confinement time with respect to the density. The density is got from the equilibrium density signal in GOLEM. The plasma electron confinement time also."
   ]
  },
  {
   "cell_type": "code",
   "execution_count": null,
   "metadata": {},
   "outputs": [],
   "source": [
    "# rescale the date to more convenient units\n",
    "ds['tau_e_us'] = 1e6*ds.electron_confinement_time\n",
    "ds['ne'] = ds.electron_density_equilibrium/1e18\n",
    "ds2 = ds[['ne', 'tau_e_us']].dropna()"
   ]
  },
  {
   "cell_type": "code",
   "execution_count": null,
   "metadata": {},
   "outputs": [],
   "source": [
    "# fit the data with a robust linear model (which filters the outliers)\n",
    "lm = linear_model.RANSACRegressor().fit(ds2[['ne']], ds2['tau_e_us']) \n",
    "ds2['lin_reg'] = lm.predict(ds2[['ne']])"
   ]
  },
  {
   "cell_type": "code",
   "execution_count": null,
   "metadata": {},
   "outputs": [],
   "source": [
    "# plotting the data and the fitting curve\n",
    "ax = ds2.plot(kind='scatter', x='ne', y='tau_e_us', ylim=(0,50))\n",
    "ds2.plot(x='ne', y='lin_reg', color='k', ax=ax, label=None)\n",
    "\n",
    "ax.set_ylabel(r'Confinement time $\\tau_e$ [µs]', fontsize=12)\n",
    "ax.set_xlabel('Electron Density $n_e$ [$10^{18} m^{-3}$]', fontsize=12)\n",
    "ax.set_title('ASPNF2019 GOLEM Plasmas')\n",
    "plt.grid(True)\n",
    "ax.text(2, 30, r'$\\hat \\tau_e$'+f'={lm.estimator_.coef_[0]:.2} $\\hat n_e$ + {lm.estimator_.intercept_:.2}')\n"
   ]
  },
  {
   "cell_type": "markdown",
   "metadata": {},
   "source": [
    "# Fitting the Neo Alcator confinement time scaling"
   ]
  },
  {
   "cell_type": "markdown",
   "metadata": {},
   "source": [
    "The latter fit as linear density behavior, like in the Neo-Alcator scaling law which is [Goldston, Plasma Phys. Control. Fusion 26 (1984) 87].:\n",
    "$$\n",
    "\\tau_e = 7.1 \\times 10^{-22} \\bar n_e a^{1.04} R^{2.04} \\sqrt{q(a)}\n",
    "$$\n",
    "where\n",
    "$$\n",
    "q(a) = \\frac{a B_t}{R B_p} \\approx \\frac{2\\pi a^2 B_t}{\\mu_0 I_p R_0}\n",
    "$$"
   ]
  },
  {
   "cell_type": "markdown",
   "metadata": {},
   "source": [
    "where we have used the plasma current derivation from Maxwell-Ampere:\n",
    "$$\n",
    "I_p = 2\\pi a B_p / \\mu_0\n",
    "$$\n",
    "\n"
   ]
  },
  {
   "cell_type": "markdown",
   "metadata": {},
   "source": [
    "Below we compare the analytical expression with the measured data. We adjusted manually the plasma radisu $a$ of GOLEM in order to fit both data"
   ]
  },
  {
   "cell_type": "code",
   "execution_count": null,
   "metadata": {},
   "outputs": [],
   "source": [
    "from scipy.constants import mu_0\n",
    "a = 35e-3 # should be ~60e-3 \n",
    "R0 = 0.4\n",
    "ds['qa'] = 2 * np.pi * a**2 * ds['toroidal_field_mean'] / (mu_0 * ds['plasma_current_mean']*R0)\n",
    "ds['tau_e_na'] = 7.1e-22 * ds['electron_density_equilibrium'] * a**1.04 * R0**2.04 * np.sqrt(ds['qa'])"
   ]
  },
  {
   "cell_type": "code",
   "execution_count": null,
   "metadata": {},
   "outputs": [],
   "source": [
    "ax=ds.plot(kind='scatter', x='electron_density_equilibrium', y='electron_confinement_time', label='GOLEM')\n",
    "ds.plot(kind='scatter', x='electron_density_equilibrium', y='tau_e_na', ax=ax, color='r', label='Neo Alcator ($a$ adjusted)')\n",
    "ax.set_ylim(0, 50e-6)\n",
    "ax.set_ylabel(r'Confinement time $\\tau_e$ [s]', fontsize=12)\n",
    "ax.set_xlabel('Electron Density $n_e$ [$m^{-3}$]', fontsize=12)\n",
    "ax.set_title('ASPNF2019 GOLEM Plasmas')\n",
    "plt.tight_layout()"
   ]
  },
  {
   "cell_type": "markdown",
   "metadata": {},
   "source": [
    "Conclusion : the Neo Alcator would fit well assuming a smaller plasma radius of ~35 mm instead of 60 mm as expected..."
   ]
  },
  {
   "cell_type": "markdown",
   "metadata": {},
   "source": [
    "# How to optimize the plasma duration"
   ]
  },
  {
   "cell_type": "code",
   "execution_count": null,
   "metadata": {},
   "outputs": [],
   "source": [
    "ds.hist('plasma_life', bins=len(ds))"
   ]
  },
  {
   "cell_type": "code",
   "execution_count": null,
   "metadata": {},
   "outputs": [],
   "source": [
    "fig, ax = plt.subplots()\n",
    "sb.distplot(1e3*ds['plasma_life'].dropna(), kde=False, bins=10, ax=ax)\n",
    "ax.set_xlabel('plasma life [ms]')"
   ]
  },
  {
   "cell_type": "code",
   "execution_count": null,
   "metadata": {},
   "outputs": [],
   "source": [
    "sub_ds = ds[['tau_e_us', 'plasma_life','tcd','ucd','ub','pressure']].dropna()"
   ]
  },
  {
   "cell_type": "markdown",
   "metadata": {},
   "source": [
    "Interestingly, the confinement time decreases as the plasma life increases..."
   ]
  },
  {
   "cell_type": "code",
   "execution_count": null,
   "metadata": {},
   "outputs": [],
   "source": [
    "plt.figure()\n",
    "sb.regplot(x='plasma_life', y='tau_e_us', data=sub_ds)"
   ]
  },
  {
   "cell_type": "markdown",
   "metadata": {},
   "source": [
    "However, there is clear increase of the confinement time with density (pressure)"
   ]
  },
  {
   "cell_type": "code",
   "execution_count": null,
   "metadata": {},
   "outputs": [],
   "source": [
    "plt.figure()\n",
    "sb.regplot(x='pressure', y='tau_e_us', data=sub_ds)"
   ]
  },
  {
   "cell_type": "code",
   "execution_count": null,
   "metadata": {},
   "outputs": [],
   "source": [
    "plt.figure()\n",
    "sb.regplot(x='ucd', y='tau_e_us', data=sub_ds)"
   ]
  },
  {
   "cell_type": "markdown",
   "metadata": {},
   "source": [
    "The pair plot below tells us that both the confinement time and the plasma duration are relatievly independant of the parameter $\\tau_{cd}$"
   ]
  },
  {
   "cell_type": "code",
   "execution_count": null,
   "metadata": {},
   "outputs": [],
   "source": [
    "sb.pairplot(sub_ds, height=2)"
   ]
  },
  {
   "cell_type": "code",
   "execution_count": null,
   "metadata": {},
   "outputs": [],
   "source": [
    "sub_ds[(sub_ds['tcd'] == 0.01)]"
   ]
  },
  {
   "cell_type": "markdown",
   "metadata": {},
   "source": [
    "What happens if we change $u_{cd}$?"
   ]
  },
  {
   "cell_type": "code",
   "execution_count": null,
   "metadata": {},
   "outputs": [],
   "source": [
    "plt.figure()\n",
    "sb.regplot(x='ucd', y='plasma_current_mean', data=ds)\n",
    "sb.regplot(x='ucd', y='plasma_current_mean', data=ds[(ds['pressure_request'] == 20)], label='20 mPa requests')\n",
    "plt.legend()"
   ]
  },
  {
   "cell_type": "code",
   "execution_count": null,
   "metadata": {},
   "outputs": [],
   "source": [
    "plt.figure()\n",
    "sb.regplot(x='ucd', y='loop_voltage_mean', data=ds, label='all pulses')\n",
    "sb.regplot(x='ucd', y='loop_voltage_mean', data=ds[(ds['pressure_request'] == 20)], label='20 mPa requests')\n",
    "plt.legend()"
   ]
  },
  {
   "cell_type": "code",
   "execution_count": null,
   "metadata": {},
   "outputs": [],
   "source": [
    "plt.figure()\n",
    "sb.regplot(x='ucd', y='electron_temperature_max', data=ds, label='all pulses')\n",
    "sb.regplot(x='ucd', y='electron_temperature_max', data=ds[(ds['pressure_request'] == 20)], label='20 mPa requests')\n",
    "plt.legend()"
   ]
  },
  {
   "cell_type": "code",
   "execution_count": null,
   "metadata": {},
   "outputs": [],
   "source": [
    "plt.figure()\n",
    "sb.regplot(x='ucd', y='electron_confinement_time', data=ds, label='all pulses')\n",
    "sb.regplot(x='ucd', y='electron_confinement_time', data=ds[(ds['pressure_request'] == 20)], label='20 mPa requests')\n",
    "plt.legend()"
   ]
  },
  {
   "cell_type": "code",
   "execution_count": null,
   "metadata": {},
   "outputs": [],
   "source": [
    "plt.figure()\n",
    "sb.regplot(x='ucd', y='plasma_life', data=ds, label='all pulses')\n",
    "sb.regplot(x='ucd', y='plasma_life', data=ds[(ds['pressure_request'] == 20)], label='20 mPa requests')\n",
    "plt.legend()"
   ]
  },
  {
   "cell_type": "code",
   "execution_count": null,
   "metadata": {},
   "outputs": [],
   "source": [
    "plt.figure()\n",
    "sb.regplot(x='tcd', y='plasma_life', data=ds, label='all pulses')\n",
    "sb.regplot(x='tcd', y='plasma_life', data=ds[(ds['pressure_request'] == 20)], label='20 mPa requests')\n",
    "plt.legend()"
   ]
  },
  {
   "cell_type": "code",
   "execution_count": null,
   "metadata": {},
   "outputs": [],
   "source": [
    "plt.figure()\n",
    "sb.regplot(x='tcd', y='loop_voltage_mean', data=ds, label='all pulses')\n",
    "sb.regplot(x='tcd', y='loop_voltage_mean', data=ds[(ds['pressure_request'] == 20)], label='20 mPa requests')\n",
    "plt.legend()"
   ]
  },
  {
   "cell_type": "code",
   "execution_count": null,
   "metadata": {},
   "outputs": [],
   "source": [
    "plt.figure()\n",
    "sb.regplot(x='tcd', y='plasma_current_mean', data=ds, label='all pulses')\n",
    "sb.regplot(x='tcd', y='plasma_current_mean', data=ds[(ds['pressure_request'] == 20)], label='20 mPa requests')\n",
    "plt.legend()"
   ]
  },
  {
   "cell_type": "code",
   "execution_count": null,
   "metadata": {},
   "outputs": [],
   "source": []
  }
 ],
 "metadata": {
  "kernelspec": {
   "display_name": "Python 3 (ipykernel)",
   "language": "python",
   "name": "python3"
  },
  "language_info": {
   "codemirror_mode": {
    "name": "ipython",
    "version": 3
   },
   "file_extension": ".py",
   "mimetype": "text/x-python",
   "name": "python",
   "nbconvert_exporter": "python",
   "pygments_lexer": "ipython3",
   "version": "3.10.8"
  },
  "toc": {
   "base_numbering": 1,
   "nav_menu": {},
   "number_sections": true,
   "sideBar": true,
   "skip_h1_title": true,
   "title_cell": "Table of Contents",
   "title_sidebar": "Contents",
   "toc_cell": false,
   "toc_position": {},
   "toc_section_display": true,
   "toc_window_display": false
  }
 },
 "nbformat": 4,
 "nbformat_minor": 2
}
